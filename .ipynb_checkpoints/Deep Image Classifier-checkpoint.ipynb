{
 "cells": [
  {
   "cell_type": "code",
   "execution_count": 28,
   "id": "41f2de54",
   "metadata": {
    "ExecuteTime": {
     "end_time": "2022-11-15T18:28:39.159693Z",
     "start_time": "2022-11-15T18:28:39.152230Z"
    }
   },
   "outputs": [],
   "source": [
    "import tensorflow as tf\n",
    "import os"
   ]
  },
  {
   "cell_type": "code",
   "execution_count": 29,
   "id": "89845be6",
   "metadata": {
    "ExecuteTime": {
     "end_time": "2022-11-15T18:28:40.735487Z",
     "start_time": "2022-11-15T18:28:40.717429Z"
    }
   },
   "outputs": [
    {
     "data": {
      "text/plain": [
       "['05-12-21-happy-people.jpg',\n",
       " '10-Habits-of-Happy-People-Seniors-Today.jpg',\n",
       " '1000_F_42220133_toAU6USGY9jVr2XJFLssfG00cSYIJ173.jpg',\n",
       " '110754-utyeqqosky-1547658396.jpeg',\n",
       " '154006829.jpg',\n",
       " '170404-happy-workers-feature.jpg',\n",
       " '1902539.jpg',\n",
       " '1920px-face-smile.svg_.png.jpg',\n",
       " '1HEoLBLidT2u4mhJ0oiDgig.png',\n",
       " '1_617fd22d3f013.jpg',\n",
       " '20150413185238-secrets-happy-entrepreneurs-woman-gratitude-rainbow-.jpeg',\n",
       " '2560px-Happy_People.jpg',\n",
       " '2F843f1ad6-ccd8-4fc0-a6e0-a80c94e680e12F196bff35_9a51_4202_9454_7745bc1eb863.jpg',\n",
       " '35438_hd.jpg',\n",
       " '56f455011e0000b300705475.jpeg',\n",
       " '613k1XcpYCL._SL1200_.jpg',\n",
       " '7-Habits-of-Happy-People-image.jpeg',\n",
       " '71hBPTAhIXL.jpg',\n",
       " '8cxKy5g9i.jpg',\n",
       " '8fc39ae2301e4355a91340731ed2198f_320_320.jpeg',\n",
       " '960x0.jpg',\n",
       " '988689_Wallpaper2.jpg',\n",
       " 'A_Sep20_14_1189155141.jpg',\n",
       " 'cheerful-diverse-friends-with-arms-around_53876-20695.jpg',\n",
       " 'compassion-900x387.jpg',\n",
       " 'Dollarphotoclub_76084977-1.jpg',\n",
       " 'friends-happy-190821.jpg',\n",
       " 'GettyImages-565706549-949x534.jpg',\n",
       " 'GettyImages-871518740-1024x707.jpg',\n",
       " 'GettyImages-906648100-1024x684.jpg',\n",
       " 'getty_143919450_9706479704500104_51510.jpg',\n",
       " 'getty_152414899_97046097045006_68075.jpg',\n",
       " 'getty_478389113_970647970450091_99776.jpg',\n",
       " 'goup-happy-people-group-jumping-isolated-white-background-35582232.jpg',\n",
       " 'guilherme-stecanella-375176-unsplash.jpg',\n",
       " 'habits-of-happy-people.jpg',\n",
       " 'Happiness-Habits-10-Things-Happy-People-Do-Before-Bed-800x450.jpg',\n",
       " 'happiness.jpg',\n",
       " 'happiness_thumbnail.jpg',\n",
       " 'happy-190806-800x450.jpg',\n",
       " 'Happy-Guy.jpg',\n",
       " 'happy-indians_5f66fd46d9f5b.jpg',\n",
       " 'happy-people-13907954.jpg',\n",
       " 'happy-people-6075804.jpg',\n",
       " 'happy-people-702x336.jpg',\n",
       " 'Happy-people-800x533.jpg',\n",
       " 'happy-people-funny-isolated-over-white-background-35582466.jpg',\n",
       " 'happy-people-stock-photos_csp15192034.jpg',\n",
       " 'happy-people.jpg',\n",
       " 'Happy-people.png',\n",
       " 'Happy-people2.jpg',\n",
       " 'happy-people21.jpg',\n",
       " 'happy-people_1463241208.jpg',\n",
       " 'happy-person-1024x768.jpeg',\n",
       " 'happy-person-11545688398rslqmyfw4g.png',\n",
       " 'happy-woman-in-nature-at-sunset.jpg',\n",
       " 'happy.jpg',\n",
       " 'Happy20People.jpg',\n",
       " 'happypeople-1024x679.jpg',\n",
       " 'happypeople.jpg',\n",
       " 'hdptcar-fi-2.jpg',\n",
       " 'image15.jpeg',\n",
       " 'image17.jpeg',\n",
       " 'image18.jpeg',\n",
       " 'image22.jpeg',\n",
       " 'image23.jpeg',\n",
       " 'image28.jpeg',\n",
       " 'image30.jpeg',\n",
       " 'images17.jpg',\n",
       " 'images2.jpg',\n",
       " 'images20.jpg',\n",
       " 'images23.jpg',\n",
       " 'images26.jpg',\n",
       " 'images30.jpg',\n",
       " 'images34.jpg',\n",
       " 'images35.jpg',\n",
       " 'images36.jpg',\n",
       " 'images37.jpg',\n",
       " 'images9.jpg',\n",
       " 'istock-508455188-033183f45ba393ed4745b2dd1213c390.jpg',\n",
       " 'jumping-and-dancing-happy-people-positive-emotions-set-illustration-free-vector.jpg',\n",
       " 'maxresdefault.jpg',\n",
       " 'nial-girls-have-glad-faces-stand-each-other-point-into-distance_273609-30540.jpg',\n",
       " 'Overtly-Cheerful-Primer-Editorials-min.png',\n",
       " 'pexels-photo-1999504.jpeg',\n",
       " 'physed-happiness-articleLarge.jpg',\n",
       " 'png-clipart-happiness-graphy-smile-happy-people-love-photography.png',\n",
       " 'png-transparent-happy-person-hand-photography-people.png',\n",
       " 'portrait-young-father-carrying-his-260nw-736997836.jpg',\n",
       " 'red-heres-why-you-should-pause-and-think-before-ruthlessly-chasing-happiness.jpg',\n",
       " 'Screen-Shot-2012-10-23-at-12.57.22-PM.png',\n",
       " 'senior-asian-couple-kiss-affection-picnic-park-1296x728-header-1024x575.jpg',\n",
       " 'shutterstock_387122728.jpg',\n",
       " 'shutterstock_491164813.jpg',\n",
       " 'sjnv_cnh7ugnaddm7so6sq.jpg',\n",
       " 'smile.woman_.jpg',\n",
       " 'things-genuinely-happy-people-know.jpg',\n",
       " 'tmp_6mv7xy_5d5b15258a507669_GettyImages-847741712.jpg',\n",
       " 'traitshappypeople.jpg',\n",
       " 'Travis-Bradberry-Happy.jpg',\n",
       " 'web3-happy-people-outside-smile-sun-nature-eduardo-dutra-620857-unsplash.jpg',\n",
       " 'what-makes-people-happy.jpeg',\n",
       " 'what-makes-people-happy1.jpg',\n",
       " 'women.png',\n",
       " 'young-and-happy-people-vector-15114154.jpg',\n",
       " 'young-woman-curly-hair-laughing-260nw-1687578475.jpg',\n",
       " '_happy_jumping_on_beach-40815.jpg']"
      ]
     },
     "execution_count": 29,
     "metadata": {},
     "output_type": "execute_result"
    }
   ],
   "source": [
    "os.listdir(os.path.join(\"data\",\"happy\"))"
   ]
  },
  {
   "cell_type": "code",
   "execution_count": 30,
   "id": "16e1e133",
   "metadata": {
    "ExecuteTime": {
     "end_time": "2022-11-15T18:28:44.062121Z",
     "start_time": "2022-11-15T18:28:44.054473Z"
    }
   },
   "outputs": [
    {
     "data": {
      "text/plain": [
       "['happy', 'sad']"
      ]
     },
     "execution_count": 30,
     "metadata": {},
     "output_type": "execute_result"
    }
   ],
   "source": [
    "os.listdir('data/')"
   ]
  },
  {
   "cell_type": "code",
   "execution_count": 7,
   "id": "b76ecf26",
   "metadata": {
    "ExecuteTime": {
     "end_time": "2022-11-15T18:07:47.354478Z",
     "start_time": "2022-11-15T18:07:47.341892Z"
    }
   },
   "outputs": [],
   "source": []
  },
  {
   "cell_type": "code",
   "execution_count": 31,
   "id": "476c5893",
   "metadata": {
    "ExecuteTime": {
     "end_time": "2022-11-15T18:28:45.940533Z",
     "start_time": "2022-11-15T18:28:45.909774Z"
    }
   },
   "outputs": [],
   "source": [
    "import cv2\n",
    "import imghdr"
   ]
  },
  {
   "cell_type": "code",
   "execution_count": 32,
   "id": "84a401c9",
   "metadata": {
    "ExecuteTime": {
     "end_time": "2022-11-15T18:28:51.711844Z",
     "start_time": "2022-11-15T18:28:47.667093Z"
    }
   },
   "outputs": [
    {
     "name": "stdout",
     "output_type": "stream",
     "text": [
      "Image not in ext list data\\happy\\2560px-Happy_People.jpg\n",
      "Image not in ext list data\\happy\\2F843f1ad6-ccd8-4fc0-a6e0-a80c94e680e12F196bff35_9a51_4202_9454_7745bc1eb863.jpg\n",
      "Image not in ext list data\\happy\\56f455011e0000b300705475.jpeg\n",
      "Image not in ext list data\\happy\\guilherme-stecanella-375176-unsplash.jpg\n",
      "Image not in ext list data\\happy\\happiness_thumbnail.jpg\n",
      "Image not in ext list data\\happy\\Happy20People.jpg\n",
      "Image not in ext list data\\happy\\portrait-young-father-carrying-his-260nw-736997836.jpg\n",
      "Image not in ext list data\\happy\\sjnv_cnh7ugnaddm7so6sq.jpg\n",
      "Image not in ext list data\\happy\\traitshappypeople.jpg\n",
      "Image not in ext list data\\happy\\young-woman-curly-hair-laughing-260nw-1687578475.jpg\n",
      "Image not in ext list data\\sad\\1200px-Sad-Mental-Illness.jpg\n",
      "Image not in ext list data\\sad\\50740738-sad-people-s-portraits.jpg\n",
      "Image not in ext list data\\sad\\adult-man-table-touches-his-260nw-1677788686.jpg\n",
      "Image not in ext list data\\sad\\african-american-depressive-sad-broken-260nw-475790911.jpg\n",
      "Image not in ext list data\\sad\\crying-sad.gif\n",
      "Image not in ext list data\\sad\\depressed-man-studio-shot-260nw-404652526.jpg\n",
      "Image not in ext list data\\sad\\origin-144.jpg\n",
      "Image not in ext list data\\sad\\secret-signs-of-loneliness-01-1440x810.jpg\n"
     ]
    }
   ],
   "source": [
    "data_dir = 'data' \n",
    "image_exts = ['jpeg','jpg', 'bmp', 'png']\n",
    "for image_class in os.listdir(data_dir): \n",
    "    for image in os.listdir(os.path.join(data_dir, image_class)):\n",
    "        image_path = os.path.join(data_dir, image_class, image)\n",
    "        try: \n",
    "            img = cv2.imread(image_path)\n",
    "            tip = imghdr.what(image_path)\n",
    "            if tip not in image_exts: \n",
    "                print('Image not in ext list {}'.format(image_path))\n",
    "                os.remove(image_path)\n",
    "        except Exception as e: \n",
    "            print('Issue with image {}'.format(image_path))\n",
    "            # os.remove(image_path)\n",
    "            "
   ]
  },
  {
   "cell_type": "code",
   "execution_count": 33,
   "id": "3ae6278b",
   "metadata": {
    "ExecuteTime": {
     "end_time": "2022-11-15T18:28:58.254299Z",
     "start_time": "2022-11-15T18:28:58.207226Z"
    }
   },
   "outputs": [
    {
     "name": "stdout",
     "output_type": "stream",
     "text": [
      "Found 168 files belonging to 2 classes.\n"
     ]
    }
   ],
   "source": [
    "data = tf.keras.utils.image_dataset_from_directory('data')"
   ]
  },
  {
   "cell_type": "code",
   "execution_count": 34,
   "id": "f7375e35",
   "metadata": {
    "ExecuteTime": {
     "end_time": "2022-11-15T18:29:00.184509Z",
     "start_time": "2022-11-15T18:29:00.175253Z"
    }
   },
   "outputs": [],
   "source": [
    "import numpy"
   ]
  },
  {
   "cell_type": "code",
   "execution_count": 35,
   "id": "907eed6b",
   "metadata": {
    "ExecuteTime": {
     "end_time": "2022-11-15T18:29:02.042565Z",
     "start_time": "2022-11-15T18:29:02.018805Z"
    }
   },
   "outputs": [],
   "source": [
    "batch_num = data.as_numpy_iterator()"
   ]
  },
  {
   "cell_type": "code",
   "execution_count": 36,
   "id": "9e1c3611",
   "metadata": {
    "ExecuteTime": {
     "end_time": "2022-11-15T18:29:05.101917Z",
     "start_time": "2022-11-15T18:29:03.922365Z"
    }
   },
   "outputs": [],
   "source": [
    "batch = batch_num.next()"
   ]
  },
  {
   "cell_type": "code",
   "execution_count": null,
   "id": "c40b32ff",
   "metadata": {},
   "outputs": [],
   "source": []
  },
  {
   "cell_type": "code",
   "execution_count": null,
   "id": "84c36a6a",
   "metadata": {},
   "outputs": [],
   "source": []
  },
  {
   "cell_type": "code",
   "execution_count": null,
   "id": "28641adb",
   "metadata": {},
   "outputs": [],
   "source": []
  },
  {
   "cell_type": "code",
   "execution_count": null,
   "id": "1723e81e",
   "metadata": {},
   "outputs": [],
   "source": []
  },
  {
   "cell_type": "code",
   "execution_count": null,
   "id": "23b00f43",
   "metadata": {},
   "outputs": [],
   "source": []
  },
  {
   "cell_type": "code",
   "execution_count": null,
   "id": "116020fa",
   "metadata": {},
   "outputs": [],
   "source": []
  },
  {
   "cell_type": "code",
   "execution_count": null,
   "id": "708702df",
   "metadata": {},
   "outputs": [],
   "source": []
  }
 ],
 "metadata": {
  "kernelspec": {
   "display_name": "Python 3 (ipykernel)",
   "language": "python",
   "name": "python3"
  },
  "language_info": {
   "codemirror_mode": {
    "name": "ipython",
    "version": 3
   },
   "file_extension": ".py",
   "mimetype": "text/x-python",
   "name": "python",
   "nbconvert_exporter": "python",
   "pygments_lexer": "ipython3",
   "version": "3.9.12"
  },
  "toc": {
   "base_numbering": 1,
   "nav_menu": {},
   "number_sections": true,
   "sideBar": true,
   "skip_h1_title": true,
   "title_cell": "Table of Contents",
   "title_sidebar": "Contents",
   "toc_cell": false,
   "toc_position": {},
   "toc_section_display": true,
   "toc_window_display": false
  }
 },
 "nbformat": 4,
 "nbformat_minor": 5
}
